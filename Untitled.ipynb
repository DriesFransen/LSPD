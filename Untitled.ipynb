{
 "cells": [
  {
   "cell_type": "code",
   "execution_count": 4,
   "metadata": {},
   "outputs": [],
   "source": [
    "import weather_data as wd"
   ]
  },
  {
   "cell_type": "code",
   "execution_count": 5,
   "metadata": {},
   "outputs": [
    {
     "data": {
      "text/plain": [
       "{'plaats': 'Vrouwenakker',\n",
       " 'temp': '8.0',\n",
       " 'gtemp': '4.4',\n",
       " 'samenv': 'Droog na regen',\n",
       " 'lv': '88',\n",
       " 'windr': 'Zuid',\n",
       " 'windms': '7',\n",
       " 'winds': '4',\n",
       " 'windk': '13.6',\n",
       " 'windkmh': '25.2',\n",
       " 'luchtd': '1015.5',\n",
       " 'ldmmhg': '762',\n",
       " 'dauwp': '6',\n",
       " 'zicht': '31',\n",
       " 'verw': 'Rustig weekeinde, wolkenvelden en soms lichte regen',\n",
       " 'sup': '06:53',\n",
       " 'sunder': '18:46',\n",
       " 'image': 'wolkennacht',\n",
       " 'd0weer': 'halfbewolkt',\n",
       " 'd0tmax': '14',\n",
       " 'd0tmin': '5',\n",
       " 'd0windk': '4',\n",
       " 'd0windknp': '12',\n",
       " 'd0windms': '6',\n",
       " 'd0windkmh': '22',\n",
       " 'd0windr': 'N',\n",
       " 'd0neerslag': '4',\n",
       " 'd0zon': '31',\n",
       " 'd1weer': 'bewolkt',\n",
       " 'd1tmax': '12',\n",
       " 'd1tmin': '7',\n",
       " 'd1windk': '3',\n",
       " 'd1windknp': '10',\n",
       " 'd1windms': '5',\n",
       " 'd1windkmh': '19',\n",
       " 'd1windr': 'Z',\n",
       " 'd1neerslag': '30',\n",
       " 'd1zon': '20',\n",
       " 'd2weer': 'halfbewolkt',\n",
       " 'd2tmax': '11',\n",
       " 'd2tmin': '4',\n",
       " 'd2windk': '2',\n",
       " 'd2windknp': '6',\n",
       " 'd2windms': '3',\n",
       " 'd2windkmh': '11',\n",
       " 'd2windr': 'NW',\n",
       " 'd2neerslag': '10',\n",
       " 'd2zon': '40',\n",
       " 'alarm': '0',\n",
       " '$id': '39',\n",
       " 'stationid': 6240,\n",
       " 'stationname': 'Meetstation Schiphol',\n",
       " 'lat': 52.3,\n",
       " 'lon': 4.77,\n",
       " 'regio': 'Amsterdam',\n",
       " 'timestamp': '2020-03-14T22:20:00',\n",
       " 'weatherdescription': 'Zwaar bewolkt en regen',\n",
       " 'iconurl': 'https://www.buienradar.nl/resources/images/icons/weather/30x30/qq.png',\n",
       " 'graphUrl': 'https://www.buienradar.nl/nederland/weerbericht/weergrafieken/qq',\n",
       " 'winddirection': 'Z',\n",
       " 'airpressure': 1015.5,\n",
       " 'temperature': 7.9,\n",
       " 'groundtemperature': 7.4,\n",
       " 'feeltemperature': 4.3,\n",
       " 'visibility': 11600.0,\n",
       " 'windgusts': 10.1,\n",
       " 'windspeed': 6.9,\n",
       " 'windspeedBft': 4,\n",
       " 'humidity': 89.0,\n",
       " 'precipitation': 0.7,\n",
       " 'sunpower': 0.0,\n",
       " 'rainFallLast24Hour': 0.2,\n",
       " 'rainFallLastHour': 0.2,\n",
       " 'winddirectiondegrees': 175}"
      ]
     },
     "execution_count": 5,
     "metadata": {},
     "output_type": "execute_result"
    }
   ],
   "source": [
    "wd.weather_data(\"Jaagpad 4 de kwakel\")"
   ]
  }
 ],
 "metadata": {
  "kernelspec": {
   "display_name": "Python 3",
   "language": "python",
   "name": "python3"
  },
  "language_info": {
   "codemirror_mode": {
    "name": "ipython",
    "version": 3
   },
   "file_extension": ".py",
   "mimetype": "text/x-python",
   "name": "python",
   "nbconvert_exporter": "python",
   "pygments_lexer": "ipython3",
   "version": "3.6.9"
  }
 },
 "nbformat": 4,
 "nbformat_minor": 2
}
