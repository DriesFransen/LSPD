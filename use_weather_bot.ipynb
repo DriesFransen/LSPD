{
 "cells": [
  {
   "cell_type": "code",
   "execution_count": 16,
   "metadata": {},
   "outputs": [],
   "source": [
    "import weather_data as wd\n",
    "\n",
    "import subprocess\n",
    "import aiml\n",
    "import os"
   ]
  },
  {
   "cell_type": "code",
   "execution_count": 17,
   "metadata": {},
   "outputs": [
    {
     "name": "stdout",
     "output_type": "stream",
     "text": [
      "Loading start_bot.xml...done (0.00 seconds)\n",
      "Loading aiml/basic_chat.aiml...done (0.00 seconds)\n",
      "Loading aiml/weather_chat.aiml...done (0.00 seconds)\n",
      "Enter your message >> hoe is het weer in Jaagpad 4 de kwakel\n",
      "Momenteel is het geheel bewolkt en 10.1 °C in Jaagpad 4 de kwakel.\n",
      "Enter your message >> quit\n"
     ]
    }
   ],
   "source": [
    "# Create the kernel and learn AIML files\n",
    "kernel = aiml.Kernel()\n",
    "kernel.learn(\"start_bot.xml\")\n",
    "kernel.respond(\"load aiml\")\n",
    "\n",
    "kernel.setBotPredicate(\"name\", \"WeatherBot\")\n",
    "\n",
    "# Press CTRL-C to break this loop\n",
    "while True:\n",
    "    message = input(\"Enter your message >> \")\n",
    "    if message == \"quit\":\n",
    "        break #useful in notebook\n",
    "        # exit() # useful in actual application\n",
    "    elif message == \"save\":\n",
    "        kernel.saveBrain(\"aiml/bot_brain.brn\")\n",
    "    else:\n",
    "        bot_response = kernel.respond(message)\n",
    "\n",
    "        if kernel.getPredicate(\"cur_weather_loc\"):\n",
    "            weather_dict = wd.weather_data(kernel.getPredicate(\"cur_weather_loc\"))\n",
    "            kernel.setPredicate(\"weather_descr\", weather_dict[\"samenv\"])\n",
    "            kernel.setPredicate(\"temp\", weather_dict[\"temp\"])\n",
    "            print(kernel.respond('CURRENT WEATHER LOC'))\n",
    "        else:\n",
    "            print(bot_response)"
   ]
  },
  {
   "cell_type": "code",
   "execution_count": 18,
   "metadata": {},
   "outputs": [
    {
     "data": {
      "text/plain": [
       "'10.1'"
      ]
     },
     "execution_count": 18,
     "metadata": {},
     "output_type": "execute_result"
    }
   ],
   "source": [
    "wd.weather_data(\"Jaagpad 4 de kwakel\")['temp']"
   ]
  }
 ],
 "metadata": {
  "kernelspec": {
   "display_name": "Python 3",
   "language": "python",
   "name": "python3"
  },
  "language_info": {
   "codemirror_mode": {
    "name": "ipython",
    "version": 3
   },
   "file_extension": ".py",
   "mimetype": "text/x-python",
   "name": "python",
   "nbconvert_exporter": "python",
   "pygments_lexer": "ipython3",
   "version": "3.7.5"
  }
 },
 "nbformat": 4,
 "nbformat_minor": 2
}
