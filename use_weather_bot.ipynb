{
 "cells": [
  {
   "cell_type": "code",
   "execution_count": 68,
   "metadata": {},
   "outputs": [],
   "source": [
    "import weather_data as wd\n",
    "%matplotlib inline\n",
    "import matplotlib.pyplot as plt\n",
    "import numpy as np\n",
    "import subprocess\n",
    "import aiml\n",
    "import os\n",
    "import matplotlib.image as mpimg\n",
    "import IPython"
   ]
  },
  {
   "cell_type": "code",
   "execution_count": 69,
   "metadata": {},
   "outputs": [],
   "source": [
    "def wind(abbr):\n",
    "    l1 = [\"Noord\", \"NNO\", \"NO\", \"ONO\", \"Oost\", \"OZO\", \"ZO\", \"ZZO\", \"Zuid\", \"ZZW\", \"ZW\", \"WZW\", \"West\", \"WNW\", \"NW\",\"NNW\", \"VAR\"]\n",
    "    l2 = [\"noord\", \"noordnoordoost\", \"noordoost\", \"oostnoordoost\", \"oost\", \"oostzuidoost\", \"zuidoost\", \"zuidzuidoost\", \n",
    "     \"zuid\", \"zuidzuidwest\", \"zuidwest\", \"westzuidwest\", \"west\", \"westnoordwest\", \"noordwest\", \"noordnoordwest\", \"geen\"]\n",
    "    for i, j in enumerate(l1): \n",
    "        if abbr == j:\n",
    "            return l2[i]\n",
    "wind(\"NNO\") \n",
    "    \n",
    "def display_wind(winddir):\n",
    "    l1 = [\"N.png\", \"NNO.png\", \"NO.png\", \"ONO.png\", \"O.png\", \"OZO.png\", \"ZO.png\", \"ZZO.png\", \"Z.png\", \"ZZW.png\", \"ZW.png\", \"WZW.png\", \"W.png\", \"WNW.png\", \"NW.png\",\"NNW.png\", \"VAR.png\"]\n",
    "    l2 = [\"noord\", \"noordnoordoost\", \"noordoost\", \"oostnoordoost\", \"oost\", \"oostzuidoost\", \"zuidoost\", \"zuidzuidoost\", \n",
    "     \"zuid\", \"zuidzuidwest\", \"zuidwest\", \"westzuidwest\", \"west\", \"westnoordwest\", \"noordwest\", \"noordnoordwest\", \"geen\"]\n",
    "    for i, j in enumerate(l2):\n",
    "        if winddir == j:\n",
    "            return(mpimg.imread('images/'+l1[i]))"
   ]
  },
  {
   "cell_type": "code",
   "execution_count": 134,
   "metadata": {},
   "outputs": [
    {
     "name": "stdout",
     "output_type": "stream",
     "text": [
      "Loading start_bot.xml...done (0.00 seconds)\n",
      "Loading aiml/basic_chat.aiml...done (0.00 seconds)\n",
      "Loading aiml/weather_chat.aiml...done (0.00 seconds)\n",
      "Loading aiml/specifics.aiml...done (0.00 seconds)\n",
      "Enter your message >> wat is het weer in vlissingen\n",
      "Momenteel is het geheel bewolkt en 9.1 °C in vlissingen.\n",
      "Wilt u meer weten over het weer in vlissingen?\n",
      "Enter your message >> ja\n",
      "Waarover wilt u meer informatie?\n",
      "Enter your message >> algemene voorspelling\n",
      "De verwachting in de loop van de dag is: wolkenvelden en vooral vanavond en vannacht enkele buien. Morgen wordt het maximaal 9 °C en minimaal 3 °C, en overmorgen maximaal 9 °C en minimaal -2 °C. Wilt u een grafische weergave van de verwachting voor de komende 5 dagen?\n",
      "Enter your message >> ja\n"
     ]
    },
    {
     "data": {
      "text/html": [
       "\n",
       "        <iframe\n",
       "            width=\"700\"\n",
       "            height=\"350\"\n",
       "            src=\"//gadgets.buienradar.nl/gadget/forecastandstation/6310/\"\n",
       "            frameborder=\"0\"\n",
       "            allowfullscreen\n",
       "        ></iframe>\n",
       "        "
      ],
      "text/plain": [
       "<IPython.lib.display.IFrame at 0x7f9db756ab90>"
      ]
     },
     "metadata": {},
     "output_type": "display_data"
    },
    {
     "name": "stdout",
     "output_type": "stream",
     "text": [
      "Wilt u meer weten over het weer in vlissingen?\n"
     ]
    },
    {
     "ename": "KeyboardInterrupt",
     "evalue": "",
     "output_type": "error",
     "traceback": [
      "\u001b[0;31m---------------------------------------------------------------------------\u001b[0m",
      "\u001b[0;31mKeyboardInterrupt\u001b[0m                         Traceback (most recent call last)",
      "\u001b[0;32m~/.local/lib/python3.7/site-packages/ipykernel/kernelbase.py\u001b[0m in \u001b[0;36m_input_request\u001b[0;34m(self, prompt, ident, parent, password)\u001b[0m\n\u001b[1;32m    883\u001b[0m             \u001b[0;32mtry\u001b[0m\u001b[0;34m:\u001b[0m\u001b[0;34m\u001b[0m\u001b[0;34m\u001b[0m\u001b[0m\n\u001b[0;32m--> 884\u001b[0;31m                 \u001b[0mident\u001b[0m\u001b[0;34m,\u001b[0m \u001b[0mreply\u001b[0m \u001b[0;34m=\u001b[0m \u001b[0mself\u001b[0m\u001b[0;34m.\u001b[0m\u001b[0msession\u001b[0m\u001b[0;34m.\u001b[0m\u001b[0mrecv\u001b[0m\u001b[0;34m(\u001b[0m\u001b[0mself\u001b[0m\u001b[0;34m.\u001b[0m\u001b[0mstdin_socket\u001b[0m\u001b[0;34m,\u001b[0m \u001b[0;36m0\u001b[0m\u001b[0;34m)\u001b[0m\u001b[0;34m\u001b[0m\u001b[0;34m\u001b[0m\u001b[0m\n\u001b[0m\u001b[1;32m    885\u001b[0m             \u001b[0;32mexcept\u001b[0m \u001b[0mException\u001b[0m\u001b[0;34m:\u001b[0m\u001b[0;34m\u001b[0m\u001b[0;34m\u001b[0m\u001b[0m\n",
      "\u001b[0;32m~/.local/lib/python3.7/site-packages/jupyter_client/session.py\u001b[0m in \u001b[0;36mrecv\u001b[0;34m(self, socket, mode, content, copy)\u001b[0m\n\u001b[1;32m    812\u001b[0m         \u001b[0;32mtry\u001b[0m\u001b[0;34m:\u001b[0m\u001b[0;34m\u001b[0m\u001b[0;34m\u001b[0m\u001b[0m\n\u001b[0;32m--> 813\u001b[0;31m             \u001b[0mmsg_list\u001b[0m \u001b[0;34m=\u001b[0m \u001b[0msocket\u001b[0m\u001b[0;34m.\u001b[0m\u001b[0mrecv_multipart\u001b[0m\u001b[0;34m(\u001b[0m\u001b[0mmode\u001b[0m\u001b[0;34m,\u001b[0m \u001b[0mcopy\u001b[0m\u001b[0;34m=\u001b[0m\u001b[0mcopy\u001b[0m\u001b[0;34m)\u001b[0m\u001b[0;34m\u001b[0m\u001b[0;34m\u001b[0m\u001b[0m\n\u001b[0m\u001b[1;32m    814\u001b[0m         \u001b[0;32mexcept\u001b[0m \u001b[0mzmq\u001b[0m\u001b[0;34m.\u001b[0m\u001b[0mZMQError\u001b[0m \u001b[0;32mas\u001b[0m \u001b[0me\u001b[0m\u001b[0;34m:\u001b[0m\u001b[0;34m\u001b[0m\u001b[0;34m\u001b[0m\u001b[0m\n",
      "\u001b[0;32m~/.local/lib/python3.7/site-packages/zmq/sugar/socket.py\u001b[0m in \u001b[0;36mrecv_multipart\u001b[0;34m(self, flags, copy, track)\u001b[0m\n\u001b[1;32m    474\u001b[0m         \"\"\"\n\u001b[0;32m--> 475\u001b[0;31m         \u001b[0mparts\u001b[0m \u001b[0;34m=\u001b[0m \u001b[0;34m[\u001b[0m\u001b[0mself\u001b[0m\u001b[0;34m.\u001b[0m\u001b[0mrecv\u001b[0m\u001b[0;34m(\u001b[0m\u001b[0mflags\u001b[0m\u001b[0;34m,\u001b[0m \u001b[0mcopy\u001b[0m\u001b[0;34m=\u001b[0m\u001b[0mcopy\u001b[0m\u001b[0;34m,\u001b[0m \u001b[0mtrack\u001b[0m\u001b[0;34m=\u001b[0m\u001b[0mtrack\u001b[0m\u001b[0;34m)\u001b[0m\u001b[0;34m]\u001b[0m\u001b[0;34m\u001b[0m\u001b[0;34m\u001b[0m\u001b[0m\n\u001b[0m\u001b[1;32m    476\u001b[0m         \u001b[0;31m# have first part already, only loop while more to receive\u001b[0m\u001b[0;34m\u001b[0m\u001b[0;34m\u001b[0m\u001b[0;34m\u001b[0m\u001b[0m\n",
      "\u001b[0;32mzmq/backend/cython/socket.pyx\u001b[0m in \u001b[0;36mzmq.backend.cython.socket.Socket.recv\u001b[0;34m()\u001b[0m\n",
      "\u001b[0;32mzmq/backend/cython/socket.pyx\u001b[0m in \u001b[0;36mzmq.backend.cython.socket.Socket.recv\u001b[0;34m()\u001b[0m\n",
      "\u001b[0;32mzmq/backend/cython/socket.pyx\u001b[0m in \u001b[0;36mzmq.backend.cython.socket._recv_copy\u001b[0;34m()\u001b[0m\n",
      "\u001b[0;32m~/.local/lib/python3.7/site-packages/zmq/backend/cython/checkrc.pxd\u001b[0m in \u001b[0;36mzmq.backend.cython.checkrc._check_rc\u001b[0;34m()\u001b[0m\n",
      "\u001b[0;31mKeyboardInterrupt\u001b[0m: ",
      "\nDuring handling of the above exception, another exception occurred:\n",
      "\u001b[0;31mKeyboardInterrupt\u001b[0m                         Traceback (most recent call last)",
      "\u001b[0;32m<ipython-input-134-c7eb8f484cda>\u001b[0m in \u001b[0;36m<module>\u001b[0;34m\u001b[0m\n\u001b[1;32m      8\u001b[0m \u001b[0;31m# Press CTRL-C to break this loop\u001b[0m\u001b[0;34m\u001b[0m\u001b[0;34m\u001b[0m\u001b[0;34m\u001b[0m\u001b[0m\n\u001b[1;32m      9\u001b[0m \u001b[0;32mwhile\u001b[0m \u001b[0;32mTrue\u001b[0m\u001b[0;34m:\u001b[0m\u001b[0;34m\u001b[0m\u001b[0;34m\u001b[0m\u001b[0m\n\u001b[0;32m---> 10\u001b[0;31m     \u001b[0mmessage\u001b[0m \u001b[0;34m=\u001b[0m \u001b[0minput\u001b[0m\u001b[0;34m(\u001b[0m\u001b[0;34m\"Enter your message >> \"\u001b[0m\u001b[0;34m)\u001b[0m\u001b[0;34m\u001b[0m\u001b[0;34m\u001b[0m\u001b[0m\n\u001b[0m\u001b[1;32m     11\u001b[0m     \u001b[0;32mif\u001b[0m \u001b[0mmessage\u001b[0m \u001b[0;34m==\u001b[0m \u001b[0;34m\"quit\"\u001b[0m\u001b[0;34m:\u001b[0m\u001b[0;34m\u001b[0m\u001b[0;34m\u001b[0m\u001b[0m\n\u001b[1;32m     12\u001b[0m         \u001b[0;32mbreak\u001b[0m \u001b[0;31m#useful in notebook\u001b[0m\u001b[0;34m\u001b[0m\u001b[0;34m\u001b[0m\u001b[0m\n",
      "\u001b[0;32m~/.local/lib/python3.7/site-packages/ipykernel/kernelbase.py\u001b[0m in \u001b[0;36mraw_input\u001b[0;34m(self, prompt)\u001b[0m\n\u001b[1;32m    857\u001b[0m             \u001b[0mself\u001b[0m\u001b[0;34m.\u001b[0m\u001b[0m_parent_ident\u001b[0m\u001b[0;34m,\u001b[0m\u001b[0;34m\u001b[0m\u001b[0;34m\u001b[0m\u001b[0m\n\u001b[1;32m    858\u001b[0m             \u001b[0mself\u001b[0m\u001b[0;34m.\u001b[0m\u001b[0m_parent_header\u001b[0m\u001b[0;34m,\u001b[0m\u001b[0;34m\u001b[0m\u001b[0;34m\u001b[0m\u001b[0m\n\u001b[0;32m--> 859\u001b[0;31m             \u001b[0mpassword\u001b[0m\u001b[0;34m=\u001b[0m\u001b[0;32mFalse\u001b[0m\u001b[0;34m,\u001b[0m\u001b[0;34m\u001b[0m\u001b[0;34m\u001b[0m\u001b[0m\n\u001b[0m\u001b[1;32m    860\u001b[0m         )\n\u001b[1;32m    861\u001b[0m \u001b[0;34m\u001b[0m\u001b[0m\n",
      "\u001b[0;32m~/.local/lib/python3.7/site-packages/ipykernel/kernelbase.py\u001b[0m in \u001b[0;36m_input_request\u001b[0;34m(self, prompt, ident, parent, password)\u001b[0m\n\u001b[1;32m    887\u001b[0m             \u001b[0;32mexcept\u001b[0m \u001b[0mKeyboardInterrupt\u001b[0m\u001b[0;34m:\u001b[0m\u001b[0;34m\u001b[0m\u001b[0;34m\u001b[0m\u001b[0m\n\u001b[1;32m    888\u001b[0m                 \u001b[0;31m# re-raise KeyboardInterrupt, to truncate traceback\u001b[0m\u001b[0;34m\u001b[0m\u001b[0;34m\u001b[0m\u001b[0;34m\u001b[0m\u001b[0m\n\u001b[0;32m--> 889\u001b[0;31m                 \u001b[0;32mraise\u001b[0m \u001b[0mKeyboardInterrupt\u001b[0m\u001b[0;34m\u001b[0m\u001b[0;34m\u001b[0m\u001b[0m\n\u001b[0m\u001b[1;32m    890\u001b[0m             \u001b[0;32melse\u001b[0m\u001b[0;34m:\u001b[0m\u001b[0;34m\u001b[0m\u001b[0;34m\u001b[0m\u001b[0m\n\u001b[1;32m    891\u001b[0m                 \u001b[0;32mbreak\u001b[0m\u001b[0;34m\u001b[0m\u001b[0;34m\u001b[0m\u001b[0m\n",
      "\u001b[0;31mKeyboardInterrupt\u001b[0m: "
     ]
    }
   ],
   "source": [
    "# Create the kernel and learn AIML files\n",
    "kernel = aiml.Kernel()\n",
    "kernel.learn(\"start_bot.xml\")\n",
    "kernel.respond(\"load aiml\")\n",
    "\n",
    "kernel.setBotPredicate(\"name\", \"WeatherBot\")\n",
    "\n",
    "# Press CTRL-C to break this loop\n",
    "while True:\n",
    "    message = input(\"Enter your message >> \")\n",
    "    if message == \"quit\":\n",
    "        break #useful in notebook\n",
    "        # exit() # useful in actual application\n",
    "    elif message == \"save\":\n",
    "        kernel.saveBrain(\"aiml/bot_brain.brn\")\n",
    "    else:\n",
    "        bot_response = kernel.respond(message)\n",
    "        if kernel.getPredicate(\"graph_temp\") == \"1\":\n",
    "            tmax_0 = int(kernel.getPredicate(\"d0tmax\"))\n",
    "            tmax_1 = int(kernel.getPredicate(\"d1tmax\"))\n",
    "            tmax_2 = int(kernel.getPredicate(\"d2tmax\"))\n",
    "            tmin_0 = int(kernel.getPredicate(\"d0tmin\"))\n",
    "            tmin_1 = int(kernel.getPredicate(\"d1tmin\"))\n",
    "            tmin_2 = int(kernel.getPredicate(\"d2tmin\"))\n",
    "            tmax = [tmax_0, tmax_1, tmax_2]\n",
    "            tmin = [tmin_0, tmin_1, tmin_2]\n",
    "            days = [\"vandaag\", \"morgen\", \"overmorgen\"]\n",
    "            l2 = plt.plot(days, tmin, color = \"blue\", label=\"minimum temperatuur\")\n",
    "            l1 = plt.plot(days, tmax, color = \"orange\", label=\"maximum temperatuur\")\n",
    "            plt.xlabel(\"Tijdstip\")\n",
    "            plt.ylabel(\"Temperatuur\")\n",
    "            plt.legend()\n",
    "            plt.show()\n",
    "            kernel.setPredicate(\"graph_temp\", \"0\")\n",
    "            print(kernel.respond('SPECIFICS'))\n",
    "            \n",
    "        elif kernel.getPredicate(\"graph_temp\") == \"2\":\n",
    "            fig = plt.figure()\n",
    "            fig.set_figheight(15)\n",
    "            fig.set_figwidth(15)\n",
    "            for i in [\"d0\", \"d1\", \"d2\"]:\n",
    "                ax = fig.add_subplot(1,3,int(i[1])+1)\n",
    "                plt.xticks([])\n",
    "                plt.yticks([])\n",
    "                plt.title(\"Dag: \"+i[1] +\", Windkracht: \"+ kernel.getPredicate(i+\"windk\"))\n",
    "                plt.imshow(display_wind(kernel.getPredicate(i+\"windr\")))\n",
    "            plt.show()\n",
    "            kernel.setPredicate(\"graph_temp\", \"0\")\n",
    "            print(kernel.respond('SPECIFICS'))\n",
    "            \n",
    "        elif kernel.getPredicate(\"graph_temp\") == \"3\":\n",
    "            graph_avail_stations = [6391, 6275, 6249, 6260, 6235, 6370, 6377, 6350, 6323, 6280, 6330, 6279,\n",
    "                                    6251, 6225, 6270, 6269, 6348, 6380, 6273, 6344, 6240, 6267, 6290, 6242,\n",
    "                                    6310, 6375, 6319, 6340]\n",
    "            station_id = wd.weather_data(kernel.getPredicate(\"cur_weather_loc\"))['stationid']\n",
    "            if station_id not in graph_avail_stations:\n",
    "                station_id = min(graph_avail_stations, key=lambda x:abs(x-station_id))\n",
    "            iframe = '//gadgets.buienradar.nl/gadget/forecastandstation/{}/'.format(station_id)\n",
    "            IPython.display.display(IFrame(iframe, width=700, height=350))\n",
    "            kernel.setPredicate(\"graph_temp\", \"0\")\n",
    "            print(kernel.respond('SPECIFICS'))\n",
    "            \n",
    "        elif kernel.getPredicate(\"flag\") == \"1\":\n",
    "            weather_dict = wd.weather_data(kernel.getPredicate(\"cur_weather_loc\"))\n",
    "            kernel.setPredicate(\"weather_descr\", weather_dict[\"samenv\"])\n",
    "            kernel.setPredicate(\"temp\", weather_dict[\"temp\"])\n",
    "            kernel.setPredicate(\"weather_forecast\", weather_dict[\"verw\"])\n",
    "            print(kernel.respond('CURRENT WEATHER LOC'))\n",
    "            print(kernel.respond('SPECIFICS'))\n",
    "            for i in weather_dict:\n",
    "                if \"windr\" in i: \n",
    "                    kernel.setPredicate(i, wind(weather_dict[i]))\n",
    "                else:\n",
    "                    kernel.setPredicate(i, weather_dict[i])\n",
    "            kernel.setPredicate(\"flag\", \"0\")\n",
    "        else:\n",
    "            print(bot_response)"
   ]
  },
  {
   "cell_type": "code",
   "execution_count": 124,
   "metadata": {},
   "outputs": [
    {
     "data": {
      "text/plain": [
       "{'plaats': 'Westkapelle',\n",
       " 'temp': '8.9',\n",
       " 'gtemp': '5.2',\n",
       " 'samenv': 'Geheel bewolkt',\n",
       " 'lv': '68',\n",
       " 'windr': 'West',\n",
       " 'windms': '8',\n",
       " 'winds': '5',\n",
       " 'windk': '15.6',\n",
       " 'windkmh': '28.8',\n",
       " 'luchtd': '1013.0',\n",
       " 'ldmmhg': '760',\n",
       " 'dauwp': '2',\n",
       " 'zicht': '24',\n",
       " 'verw': 'Wolkenvelden en vooral vanavond en vannacht enkele buien',\n",
       " 'sup': '07:14',\n",
       " 'sunder': '20:23',\n",
       " 'image': 'bewolkt',\n",
       " 'd0weer': 'zonnig',\n",
       " 'd0tmax': '12',\n",
       " 'd0tmin': '4',\n",
       " 'd0windk': '3',\n",
       " 'd0windknp': '8',\n",
       " 'd0windms': '4',\n",
       " 'd0windkmh': '15',\n",
       " 'd0windr': 'NO',\n",
       " 'd0neerslag': '0',\n",
       " 'd0zon': '94',\n",
       " 'd1weer': 'bewolkt',\n",
       " 'd1tmax': '9',\n",
       " 'd1tmin': '3',\n",
       " 'd1windk': '3',\n",
       " 'd1windknp': '8',\n",
       " 'd1windms': '4',\n",
       " 'd1windkmh': '15',\n",
       " 'd1windr': 'NW',\n",
       " 'd1neerslag': '30',\n",
       " 'd1zon': '30',\n",
       " 'd2weer': 'halfbewolkt',\n",
       " 'd2tmax': '9',\n",
       " 'd2tmin': '-2',\n",
       " 'd2windk': '2',\n",
       " 'd2windknp': '6',\n",
       " 'd2windms': '3',\n",
       " 'd2windkmh': '11',\n",
       " 'd2windr': 'ZO',\n",
       " 'd2neerslag': '20',\n",
       " 'd2zon': '40',\n",
       " 'alarm': '0',\n",
       " '$id': '7',\n",
       " 'stationid': 6308,\n",
       " 'stationname': 'Meetstation Cadzand',\n",
       " 'lat': 51.38,\n",
       " 'lon': 3.38,\n",
       " 'regio': 'Cadzand',\n",
       " 'timestamp': '2020-04-02T17:20:00',\n",
       " 'weatherdescription': 'Zwaar bewolkt',\n",
       " 'iconurl': 'https://www.buienradar.nl/resources/images/icons/weather/30x30/c.png',\n",
       " 'graphUrl': 'https://www.buienradar.nl/nederland/weerbericht/weergrafieken/c',\n",
       " 'winddirection': 'W',\n",
       " 'windgusts': 10.4,\n",
       " 'windspeed': 8.5,\n",
       " 'windspeedBft': 5,\n",
       " 'winddirectiondegrees': 273}"
      ]
     },
     "execution_count": 124,
     "metadata": {},
     "output_type": "execute_result"
    }
   ],
   "source": [
    "wd.weather_data(\"Vlissingen\")"
   ]
  },
  {
   "cell_type": "code",
   "execution_count": 133,
   "metadata": {},
   "outputs": [
    {
     "data": {
      "text/html": [
       "\n",
       "        <iframe\n",
       "            width=\"700\"\n",
       "            height=\"350\"\n",
       "            src=\"//gadgets.buienradar.nl/gadget/forecastandstation/6249/\"\n",
       "            frameborder=\"0\"\n",
       "            allowfullscreen\n",
       "        ></iframe>\n",
       "        "
      ],
      "text/plain": [
       "<IPython.lib.display.IFrame at 0x7f9db73a66d0>"
      ]
     },
     "metadata": {},
     "output_type": "display_data"
    }
   ],
   "source": [
    "graph_avail_stations = [6391, 6275, 6249, 6260, 6235, 6370, 6377, 6350, 6323, 6280, 6330, 6279, 6251, 6225, 6270, 6269, 6348, 6380, 6273, 6344, 6240, 6267, 6290, 6242, 6310, 6375, 6319, 6340]\n",
    "station_id = wd.weather_data(\"Hoorn\")['stationid']\n",
    "\n",
    "if station_id not in graph_avail_stations:\n",
    "    station_id = min(graph_avail_stations, key=lambda x:abs(x-station_id))\n",
    "    \n",
    "iframe = '//gadgets.buienradar.nl/gadget/forecastandstation/{}/'.format(station_id)\n",
    "IPython.display.display(IFrame(iframe, width=700, height=350))\n",
    "\n"
   ]
  },
  {
   "cell_type": "code",
   "execution_count": null,
   "metadata": {},
   "outputs": [],
   "source": []
  }
 ],
 "metadata": {
  "kernelspec": {
   "display_name": "Python 3",
   "language": "python",
   "name": "python3"
  },
  "language_info": {
   "codemirror_mode": {
    "name": "ipython",
    "version": 3
   },
   "file_extension": ".py",
   "mimetype": "text/x-python",
   "name": "python",
   "nbconvert_exporter": "python",
   "pygments_lexer": "ipython3",
   "version": "3.7.5"
  }
 },
 "nbformat": 4,
 "nbformat_minor": 2
}
