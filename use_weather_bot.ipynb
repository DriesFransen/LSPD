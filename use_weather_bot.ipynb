{
 "cells": [
  {
   "cell_type": "code",
   "execution_count": 10,
   "metadata": {},
   "outputs": [],
   "source": [
    "import weather_data as wd\n",
    "%matplotlib inline\n",
    "import matplotlib.pyplot as plt\n",
    "import numpy as np\n",
    "import subprocess\n",
    "import aiml\n",
    "import os\n",
    "import matplotlib.image as mpimg\n",
    "import IPython\n",
    "from IPython.display import IFrame"
   ]
  },
  {
   "cell_type": "code",
   "execution_count": 14,
   "metadata": {},
   "outputs": [
    {
     "name": "stdout",
     "output_type": "stream",
     "text": [
      "noordnoordoost\n",
      "WOZ\n"
     ]
    },
    {
     "data": {
      "text/plain": [
       "137901.22"
      ]
     },
     "execution_count": 14,
     "metadata": {},
     "output_type": "execute_result"
    }
   ],
   "source": [
    "def abbr_to_wind(abbr):\n",
    "    if abbr == \"VAR\":\n",
    "        return \"geen\"\n",
    "    if 't' in abbr or 'd' in abbr:\n",
    "        return abbr.capitalize()\n",
    "    wind_direction = {'N': \"noord\", 'Z': \"zuid\", 'O': \"oost\", 'W': \"west\"}\n",
    "    direction_string = ''\n",
    "    for char in abbr:\n",
    "        direction_string += wind_direction[char]\n",
    "    return direction_string\n",
    "\n",
    "def wind_to_abbr(wind):\n",
    "    if wind == \"geen\":\n",
    "        return \"VAR\"\n",
    "    wind_dict = {\"noord\": 'N', \"zuid\": 'Z', \"oost\": 'O', \"west\": 'W'}\n",
    "    for direction in wind_dict:\n",
    "        wind = wind.replace(direction, wind_dict[direction])\n",
    "    return wind\n",
    " \n",
    "print(abbr_to_wind(\"NNO\"))\n",
    "print(wind_to_abbr(\"westoostzuid\"))\n",
    "    \n",
    "def display_wind(winddir):\n",
    "    return(mpimg.imread(\"images/\"+wind_to_abbr(winddir)+\".png\"))\n",
    "\n",
    "np.sum(display_wind(\"noordnoordoost\"))"
   ]
  },
  {
   "cell_type": "code",
   "execution_count": 20,
   "metadata": {},
   "outputs": [
    {
     "name": "stdout",
     "output_type": "stream",
     "text": [
      "Loading start_bot.xml...done (0.00 seconds)\n",
      "Loading aiml/basic_chat.aiml...done (0.00 seconds)\n",
      "Loading aiml/weather_chat.aiml...done (0.00 seconds)\n",
      "Loading aiml/specifics.aiml...done (0.00 seconds)\n",
      "Loading aiml/exceptions.aiml...done (0.01 seconds)\n",
      "Enter your message >> hoe is het weer in blokker\n",
      "Momenteel is het geheel bewolkt en 8.5 °C in blokker.\n",
      "Wilt u meer weten over het weer in blokker?\n",
      "Enter your message >> ja\n",
      "Waarover wilt u meer informatie?\n",
      "Enter your message >> kleding\n",
      "Het is aardig weer buiten, niet te warm en ook niet te koud en niet veel regen. Trek een jasje en een lange broek aan.\n",
      "Wilt u meer weten over het weer in blokker?\n",
      "Enter your message >> quit\n"
     ]
    }
   ],
   "source": [
    "# Create the kernel and learn AIML files\n",
    "kernel = aiml.Kernel()\n",
    "kernel.learn(\"start_bot.xml\")\n",
    "kernel.respond(\"load aiml\")\n",
    "\n",
    "kernel.setBotPredicate(\"name\", \"WeatherBot\")\n",
    "\n",
    "# Press CTRL-C to break this loop\n",
    "while True:\n",
    "    message = input(\"Enter your message >> \")\n",
    "    if message == \"quit\":\n",
    "        break #useful in notebook\n",
    "        # exit() # useful in actual application\n",
    "    elif message == \"save\":\n",
    "        kernel.saveBrain(\"aiml/bot_brain.brn\")\n",
    "    else:\n",
    "        bot_response = kernel.respond(message)\n",
    "        if kernel.getPredicate(\"graph_temp\") == \"1\":\n",
    "            tmax_0 = int(kernel.getPredicate(\"d0tmax\"))\n",
    "            tmax_1 = int(kernel.getPredicate(\"d1tmax\"))\n",
    "            tmax_2 = int(kernel.getPredicate(\"d2tmax\"))\n",
    "            tmin_0 = int(kernel.getPredicate(\"d0tmin\"))\n",
    "            tmin_1 = int(kernel.getPredicate(\"d1tmin\"))\n",
    "            tmin_2 = int(kernel.getPredicate(\"d2tmin\"))\n",
    "            tmax = [tmax_0, tmax_1, tmax_2]\n",
    "            tmin = [tmin_0, tmin_1, tmin_2]\n",
    "            days = [\"vandaag\", \"morgen\", \"overmorgen\"]\n",
    "            l2 = plt.plot(days, tmin, color = \"blue\", label=\"minimum temperatuur\")\n",
    "            l1 = plt.plot(days, tmax, color = \"orange\", label=\"maximum temperatuur\")\n",
    "            plt.xlabel(\"Tijdstip\")\n",
    "            plt.ylabel(\"Temperatuur\")\n",
    "            plt.legend()\n",
    "            plt.show()\n",
    "            kernel.setPredicate(\"graph_temp\", \"0\")\n",
    "            print(kernel.respond('SPECIFICS'))\n",
    "            \n",
    "        elif kernel.getPredicate(\"graph_temp\") == \"2\":\n",
    "            fig = plt.figure()\n",
    "            fig.set_figheight(15)\n",
    "            fig.set_figwidth(15)\n",
    "            for i in [\"d0\", \"d1\", \"d2\"]:\n",
    "                ax = fig.add_subplot(1,3,int(i[1])+1)\n",
    "                plt.xticks([])\n",
    "                plt.yticks([])\n",
    "                plt.title(\"Dag: \"+i[1] +\", Windkracht: \"+ kernel.getPredicate(i+\"windk\"))\n",
    "                plt.imshow(display_wind(kernel.getPredicate(i+\"windr\")))\n",
    "            plt.show()\n",
    "            kernel.setPredicate(\"graph_temp\", \"0\")\n",
    "            print(kernel.respond('SPECIFICS'))\n",
    "            \n",
    "        elif kernel.getPredicate(\"graph_temp\") == \"3\":\n",
    "            graph_avail_stations = [6391, 6275, 6249, 6260, 6235, 6370, 6377, 6350, 6323, 6280, 6330, 6279,\n",
    "                                    6251, 6225, 6270, 6269, 6348, 6380, 6273, 6344, 6240, 6267, 6290, 6242,\n",
    "                                    6310, 6375, 6319, 6340]\n",
    "            station_id = wd.weather_data(kernel.getPredicate(\"cur_weather_loc\"))['stationid']\n",
    "            if station_id not in graph_avail_stations:\n",
    "                station_id = min(graph_avail_stations, key=lambda x:abs(x-station_id))\n",
    "            iframe = '//gadgets.buienradar.nl/gadget/forecastandstation/{}/'.format(station_id)\n",
    "            IPython.display.display(IFrame(iframe, width=700, height=350))\n",
    "            kernel.setPredicate(\"graph_temp\", \"0\")\n",
    "            print(kernel.respond('SPECIFICS'))\n",
    "        \n",
    "        elif kernel.getPredicate(\"flag\") == \"2\":\n",
    "            t = int(round(float(kernel.getPredicate(\"gtemp\"))))\n",
    "            if t < 5:\n",
    "                if float(kernel.getPredicate(\"d0neerslag\")) < 30:\n",
    "                    kernel.getPredicate(\"flag\") == \"0\"\n",
    "                    print(kernel.respond('COLD DRY'))\n",
    "                else:\n",
    "                    kernel.getPredicate(\"flag\") == \"0\"\n",
    "                    print(kernel.respond('COLD RAIN'))\n",
    "            elif t < 15:\n",
    "                if float(kernel.getPredicate(\"d0neerslag\")) < 30:\n",
    "                    kernel.getPredicate(\"flag\") == \"0\"\n",
    "                    print(kernel.respond('MIDDLE DRY'))\n",
    "                else:\n",
    "                    kernel.getPredicate(\"flag\") == \"0\"\n",
    "                    print(kernel.respond('MIDDLE RAIN'))\n",
    "            else:\n",
    "                if float(kernel.getPredicate(\"d0neerslag\")) < 30:\n",
    "                    kernel.getPredicate(\"flag\") == \"0\"\n",
    "                    print(kernel.respond('WARM DRY'))\n",
    "                else:\n",
    "                    kernel.getPredicate(\"flag\") == \"0\"\n",
    "                    print(kernel.respond('WARM RAIN'))\n",
    "            kernel.setPredicate(\"flag\", \"0\")\n",
    "            print(kernel.respond('SPECIFICS'))\n",
    "            \n",
    "        elif kernel.getPredicate(\"flag\") == \"1\":\n",
    "            weather_dict = wd.weather_data(kernel.getPredicate(\"cur_weather_loc\"))\n",
    "            kernel.setPredicate(\"weather_descr\", weather_dict[\"samenv\"])\n",
    "            kernel.setPredicate(\"temp\", weather_dict[\"temp\"])\n",
    "            kernel.setPredicate(\"weather_forecast\", weather_dict[\"verw\"])\n",
    "            print(kernel.respond('CURRENT WEATHER LOC'))\n",
    "            print(kernel.respond('SPECIFICS'))\n",
    "            for i in weather_dict:\n",
    "                if \"windr\" in i: \n",
    "                    kernel.setPredicate(i, wind(weather_dict[i]))\n",
    "                else:\n",
    "                    kernel.setPredicate(i, weather_dict[i])\n",
    "            kernel.setPredicate(\"flag\", \"0\")\n",
    "        else:\n",
    "            print(bot_response)"
   ]
  },
  {
   "cell_type": "code",
   "execution_count": 124,
   "metadata": {},
   "outputs": [
    {
     "data": {
      "text/plain": [
       "{'plaats': 'Westkapelle',\n",
       " 'temp': '8.9',\n",
       " 'gtemp': '5.2',\n",
       " 'samenv': 'Geheel bewolkt',\n",
       " 'lv': '68',\n",
       " 'windr': 'West',\n",
       " 'windms': '8',\n",
       " 'winds': '5',\n",
       " 'windk': '15.6',\n",
       " 'windkmh': '28.8',\n",
       " 'luchtd': '1013.0',\n",
       " 'ldmmhg': '760',\n",
       " 'dauwp': '2',\n",
       " 'zicht': '24',\n",
       " 'verw': 'Wolkenvelden en vooral vanavond en vannacht enkele buien',\n",
       " 'sup': '07:14',\n",
       " 'sunder': '20:23',\n",
       " 'image': 'bewolkt',\n",
       " 'd0weer': 'zonnig',\n",
       " 'd0tmax': '12',\n",
       " 'd0tmin': '4',\n",
       " 'd0windk': '3',\n",
       " 'd0windknp': '8',\n",
       " 'd0windms': '4',\n",
       " 'd0windkmh': '15',\n",
       " 'd0windr': 'NO',\n",
       " 'd0neerslag': '0',\n",
       " 'd0zon': '94',\n",
       " 'd1weer': 'bewolkt',\n",
       " 'd1tmax': '9',\n",
       " 'd1tmin': '3',\n",
       " 'd1windk': '3',\n",
       " 'd1windknp': '8',\n",
       " 'd1windms': '4',\n",
       " 'd1windkmh': '15',\n",
       " 'd1windr': 'NW',\n",
       " 'd1neerslag': '30',\n",
       " 'd1zon': '30',\n",
       " 'd2weer': 'halfbewolkt',\n",
       " 'd2tmax': '9',\n",
       " 'd2tmin': '-2',\n",
       " 'd2windk': '2',\n",
       " 'd2windknp': '6',\n",
       " 'd2windms': '3',\n",
       " 'd2windkmh': '11',\n",
       " 'd2windr': 'ZO',\n",
       " 'd2neerslag': '20',\n",
       " 'd2zon': '40',\n",
       " 'alarm': '0',\n",
       " '$id': '7',\n",
       " 'stationid': 6308,\n",
       " 'stationname': 'Meetstation Cadzand',\n",
       " 'lat': 51.38,\n",
       " 'lon': 3.38,\n",
       " 'regio': 'Cadzand',\n",
       " 'timestamp': '2020-04-02T17:20:00',\n",
       " 'weatherdescription': 'Zwaar bewolkt',\n",
       " 'iconurl': 'https://www.buienradar.nl/resources/images/icons/weather/30x30/c.png',\n",
       " 'graphUrl': 'https://www.buienradar.nl/nederland/weerbericht/weergrafieken/c',\n",
       " 'winddirection': 'W',\n",
       " 'windgusts': 10.4,\n",
       " 'windspeed': 8.5,\n",
       " 'windspeedBft': 5,\n",
       " 'winddirectiondegrees': 273}"
      ]
     },
     "execution_count": 124,
     "metadata": {},
     "output_type": "execute_result"
    }
   ],
   "source": [
    "wd.weather_data(\"Vlissingen\")"
   ]
  },
  {
   "cell_type": "code",
   "execution_count": 133,
   "metadata": {},
   "outputs": [
    {
     "data": {
      "text/html": [
       "\n",
       "        <iframe\n",
       "            width=\"700\"\n",
       "            height=\"350\"\n",
       "            src=\"//gadgets.buienradar.nl/gadget/forecastandstation/6249/\"\n",
       "            frameborder=\"0\"\n",
       "            allowfullscreen\n",
       "        ></iframe>\n",
       "        "
      ],
      "text/plain": [
       "<IPython.lib.display.IFrame at 0x7f9db73a66d0>"
      ]
     },
     "metadata": {},
     "output_type": "display_data"
    }
   ],
   "source": [
    "graph_avail_stations = [6391, 6275, 6249, 6260, 6235, 6370, 6377, 6350, 6323, 6280, 6330, 6279, 6251, 6225, 6270, 6269, 6348, 6380, 6273, 6344, 6240, 6267, 6290, 6242, 6310, 6375, 6319, 6340]\n",
    "station_id = wd.weather_data(\"Hoorn\")['stationid']\n",
    "\n",
    "if station_id not in graph_avail_stations:\n",
    "    station_id = min(graph_avail_stations, key=lambda x:abs(x-station_id))\n",
    "    \n",
    "iframe = '//gadgets.buienradar.nl/gadget/forecastandstation/{}/'.format(station_id)\n",
    "IPython.display.display(IFrame(iframe, width=700, height=350))\n",
    "\n"
   ]
  },
  {
   "cell_type": "code",
   "execution_count": null,
   "metadata": {},
   "outputs": [],
   "source": []
  }
 ],
 "metadata": {
  "kernelspec": {
   "display_name": "Python 3",
   "language": "python",
   "name": "python3"
  },
  "language_info": {
   "codemirror_mode": {
    "name": "ipython",
    "version": 3
   },
   "file_extension": ".py",
   "mimetype": "text/x-python",
   "name": "python",
   "nbconvert_exporter": "python",
   "pygments_lexer": "ipython3",
   "version": "3.6.9"
  }
 },
 "nbformat": 4,
 "nbformat_minor": 2
}
