{
 "cells": [
  {
   "cell_type": "code",
   "execution_count": 35,
   "metadata": {},
   "outputs": [],
   "source": [
    "import weather_data as wd\n",
    "%matplotlib inline\n",
    "import matplotlib.pyplot as plt\n",
    "import numpy as np\n",
    "import subprocess\n",
    "import aiml\n",
    "import os"
   ]
  },
  {
   "cell_type": "code",
   "execution_count": 52,
   "metadata": {},
   "outputs": [
    {
     "name": "stdout",
     "output_type": "stream",
     "text": [
      "Loading start_bot.xml...done (0.00 seconds)\n",
      "Loading aiml/basic_chat.aiml...done (0.00 seconds)\n",
      "Loading aiml/weather_chat.aiml...done (0.00 seconds)\n",
      "Loading aiml/specifics.aiml...done (0.01 seconds)\n",
      "Enter your message >> hoe is het weer in hoorn\n",
      "Momenteel is het geheel bewolkt en 7.9 °C in hoorn.\n",
      "Wilt u meer weten over het weer in hoorn?\n",
      "Enter your message >> ja\n",
      "Waarover wilt u meer informatie?\n",
      "Enter your message >> de temperatuur\n",
      "In hoorn is de temperatuur op het moment 7.9°. De gemiddelde temperatuur is 4.9 °, met een maximum van 11° en een minimum van 1°. Wilt u een temperatuursvoorspelling?\n",
      "Enter your message >> nee\n",
      "Okay.  Wilt u meer weten over het weer in hoorn?\n",
      "Enter your message >> ja\n",
      "Waarover wilt u meer informatie?\n",
      "Enter your message >> de temperatuur\n",
      "In hoorn is de temperatuur op het moment 7.9°. De gemiddelde temperatuur is 4.9 °, met een maximum van 11° en een minimum van 1°. Wilt u een temperatuursvoorspelling?\n",
      "Enter your message >> ja\n",
      "De voorspelling is dat het morgen maximaal 11° en minimaal 1° wordt, en overmorgen maximaal 8° en een minimaal 4°. Wilt u een graphische weergave?\n",
      "Enter your message >> nee\n",
      "Okay.  Wilt u meer weten over het weer in hoorn?\n",
      "Enter your message >> ja\n",
      "Waarover wilt u meer informatie?\n",
      "Enter your message >> de temperatuur\n",
      "In hoorn is de temperatuur op het moment 7.9°. De gemiddelde temperatuur is 4.9 °, met een maximum van 11° en een minimum van 1°. Wilt u een temperatuursvoorspelling?\n",
      "Enter your message >> ja\n",
      "De voorspelling is dat het morgen maximaal 11° en minimaal 1° wordt, en overmorgen maximaal 8° en een minimaal 4°. Wilt u een graphische weergave?\n",
      "Enter your message >> ja\n"
     ]
    },
    {
     "data": {
      "image/png": "[encoded data removed]",
      "text/plain": [
       "<Figure size 432x288 with 1 Axes>"
      ]
     },
     "metadata": {
      "needs_background": "light"
     },
     "output_type": "display_data"
    },
    {
     "name": "stdout",
     "output_type": "stream",
     "text": [
      "Wilt u meer weten over het weer in hoorn?\n",
      "Enter your message >> ja\n"
     ]
    },
    {
     "name": "stderr",
     "output_type": "stream",
     "text": [
      "WARNING: No match found for input: ja\n"
     ]
    },
    {
     "data": {
      "image/png": "[encoded data removed]",
      "text/plain": [
       "<Figure size 432x288 with 1 Axes>"
      ]
     },
     "metadata": {
      "needs_background": "light"
     },
     "output_type": "display_data"
    },
    {
     "name": "stdout",
     "output_type": "stream",
     "text": [
      "Wilt u meer weten over het weer in hoorn?\n",
      "Enter your message >> quit\n"
     ]
    }
   ],
   "source": [
    "# Create the kernel and learn AIML files\n",
    "kernel = aiml.Kernel()\n",
    "kernel.learn(\"start_bot.xml\")\n",
    "kernel.respond(\"load aiml\")\n",
    "\n",
    "kernel.setBotPredicate(\"name\", \"WeatherBot\")\n",
    "\n",
    "# Press CTRL-C to break this loop\n",
    "while True:\n",
    "    message = input(\"Enter your message >> \")\n",
    "    if message == \"quit\":\n",
    "        break #useful in notebook\n",
    "        # exit() # useful in actual application\n",
    "    elif message == \"save\":\n",
    "        kernel.saveBrain(\"aiml/bot_brain.brn\")\n",
    "    else:\n",
    "        bot_response = kernel.respond(message)\n",
    "        if kernel.getPredicate(\"graph_temp\") == \"1\":\n",
    "            tmax_0 = int(kernel.getPredicate(\"d0tmax\"))\n",
    "            tmax_1 = int(kernel.getPredicate(\"d1tmax\"))\n",
    "            tmax_2 = int(kernel.getPredicate(\"d2tmax\"))\n",
    "            tmin_0 = int(kernel.getPredicate(\"d0tmin\"))\n",
    "            tmin_1 = int(kernel.getPredicate(\"d1tmin\"))\n",
    "            tmin_2 = int(kernel.getPredicate(\"d2tmin\"))\n",
    "            tmax = [tmax_0, tmax_1, tmax_2]\n",
    "            tmin = [tmin_0, tmin_1, tmin_2]\n",
    "            days = [\"vandaag\", \"morgen\", \"overmorgen\"]\n",
    "            l2 = plt.plot(days, tmin, label=\"minimum temperatuur\")\n",
    "            l1 = plt.plot(days, tmax, label=\"maximum temperatuur\")\n",
    "            plt.legend()\n",
    "            plt.show()\n",
    "            print(kernel.respond('SPECIFICS'))\n",
    "        elif kernel.getPredicate(\"cur_weather_loc\") and not kernel.getPredicate(\"plaats\"):\n",
    "            #weather_dict = wd.weather_data(kernel.getPredicate(\"cur_weather_loc\"))\n",
    "            weather_dict = {'plaats': 'Hoorn', 'temp': '7.9', 'gtemp': '4.9', 'samenv': 'Geheel bewolkt', 'lv': '67', 'windr': 'West', 'windms': '5', 'winds': '3', 'windk': '9.7', 'windkmh': '18', 'luchtd': '1021.5', 'ldmmhg': '766', 'dauwp': '1', 'zicht': '40', 'verw': 'Wolkenvelden en in het noorden een bui, in het zuiden zonnig', 'sup': '07:10', 'sunder': '20:17', 'image': 'bewolkt', 'd0weer': 'zonnig', 'd0tmax': '11', 'd0tmin': '1', 'd0windk': '3', 'd0windknp': '8', 'd0windms': '4', 'd0windkmh': '15', 'd0windr': 'NO', 'd0neerslag': '4', 'd0zon': '86', 'd1weer': 'halfbewolkt', 'd1tmax': '11', 'd1tmin': '1', 'd1windk': '3', 'd1windknp': '8', 'd1windms': '4', 'd1windkmh': '15', 'd1windr': 'ZW', 'd1neerslag': '20', 'd1zon': '40', 'd2weer': 'bewolkt', 'd2tmax': '8', 'd2tmin': '4', 'd2windk': '3', 'd2windknp': '8', 'd2windms': '4', 'd2windkmh': '15', 'd2windr': 'NW', 'd2neerslag': '30', 'd2zon': '30', 'alarm': '0', '$id': '51', 'stationid': 6248, 'stationname': 'Meetstation Wijdenes', 'lat': 52.63, 'lon': 5.17, 'regio': 'Hoorn', 'timestamp': '2020-04-01T14:50:00', 'weatherdescription': 'Zwaar bewolkt', 'iconurl': 'https://www.buienradar.nl/resources/images/icons/weather/30x30/c.png', 'graphUrl': 'https://www.buienradar.nl/nederland/weerbericht/weergrafieken/c', 'winddirection': 'W', 'windgusts': 5.1, 'windspeed': 3.1, 'windspeedBft': 2, 'winddirectiondegrees': 264}\n",
    "            kernel.setPredicate(\"weather_descr\", weather_dict[\"samenv\"])\n",
    "            kernel.setPredicate(\"temp\", weather_dict[\"temp\"])\n",
    "            print(kernel.respond('CURRENT WEATHER LOC'))\n",
    "            print(kernel.respond('SPECIFICS'))\n",
    "            for i in weather_dict:\n",
    "                 kernel.setPredicate(i, weather_dict[i])\n",
    "        else:\n",
    "            print(bot_response)"
   ]
  },
  {
   "cell_type": "code",
   "execution_count": 18,
   "metadata": {},
   "outputs": [
    {
     "data": {
      "text/plain": [
       "'10.1'"
      ]
     },
     "execution_count": 18,
     "metadata": {},
     "output_type": "execute_result"
    }
   ],
   "source": [
    "wd.weather_data(\"Jaagpad 4 de kwakel\")['temp']"
   ]
  }
 ],
 "metadata": {
  "kernelspec": {
   "display_name": "Python 3",
   "language": "python",
   "name": "python3"
  },
  "language_info": {
   "codemirror_mode": {
    "name": "ipython",
    "version": 3
   },
   "file_extension": ".py",
   "mimetype": "text/x-python",
   "name": "python",
   "nbconvert_exporter": "python",
   "pygments_lexer": "ipython3",
   "version": "3.7.4"
  }
 },
 "nbformat": 4,
 "nbformat_minor": 2
}
