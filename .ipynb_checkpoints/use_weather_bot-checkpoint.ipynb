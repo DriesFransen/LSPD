{
 "cells": [
  {
   "cell_type": "code",
   "execution_count": 9,
   "metadata": {},
   "outputs": [],
   "source": [
    "import weather_data as wd\n",
    "%matplotlib inline\n",
    "import matplotlib.pyplot as plt\n",
    "import numpy as np\n",
    "import subprocess\n",
    "import aiml\n",
    "import os\n",
    "from IPython.display import Image, display"
   ]
  },
  {
   "cell_type": "code",
   "execution_count": 10,
   "metadata": {},
   "outputs": [
    {
     "data": {
      "text/plain": [
       "'noordnoordoost'"
      ]
     },
     "execution_count": 10,
     "metadata": {},
     "output_type": "execute_result"
    }
   ],
   "source": [
    "def wind(abbr):\n",
    "    l1 = [\"Noord\", \"NNO\", \"NO\", \"ONO\", \"Oost\", \"OZO\", \"ZO\", \"ZZO\", \"Zuid\", \"ZZW\", \"ZW\", \"WZW\", \"West\", \"WNW\", \"NW\",\"NNW\", \"VAR\"]\n",
    "    l2 = [\"noord\", \"noordnoordoost\", \"noordoost\", \"oostnoordoost\", \"oost\", \"oostzuidoost\", \"zuidoost\", \"zuidzuidoost\", \n",
    "     \"zuid\", \"zuidzuidwest\", \"zuidwest\", \"zestzuidwest\", \"west\", \"westnoordwest\", \"noordwest\", \"noordnoordwest\", \"geen\"]\n",
    "    for i, j in enumerate(l1): \n",
    "        if abbr == j:\n",
    "            return l2[i]\n",
    "wind(\"NNO\") \n",
    "    "
   ]
  },
  {
   "cell_type": "code",
   "execution_count": null,
   "metadata": {},
   "outputs": [
    {
     "name": "stdout",
     "output_type": "stream",
     "text": [
      "Loading start_bot.xml...done (0.00 seconds)\n",
      "Loading aiml/basic_chat.aiml...done (0.00 seconds)\n",
      "Loading aiml/weather_chat.aiml...done (0.00 seconds)\n",
      "Loading aiml/specifics.aiml...done (0.00 seconds)\n",
      "Enter your message >> hoe is het weer in hoorn\n",
      "Momenteel is het geheel bewolkt en 7.9 °C in hoorn.\n",
      "Wilt u meer weten over het weer in hoorn?\n",
      "Enter your message >> ja\n",
      "Waarover wilt u meer informatie?\n",
      "Enter your message >> de wind\n",
      "De wind waait in hoorn vanuit het westen met windkracht 3. Wilt u een windvoorspelling?\n",
      "Enter your message >> ja\n",
      "Vandaag zal de wind hoofdzakelijk vanuit het noordoosten komen met windkracht 3. Morgen waait de wind vanuit zuidwestelijke richting met windkracht 3 en overmorgen vanuit zuidwestelijke richting met windkracht 3. Wilt u een graphische weergave?\n",
      "Enter your message >> ja\n",
      "nog niet gedaan\n",
      "Wilt u meer weten over het weer in hoorn?\n",
      "Enter your message >> ja\n",
      "Waarover wilt u meer informatie?\n",
      "Enter your message >> de temperatuur\n",
      "In hoorn is de temperatuur op het moment 7.9 °C. De gevoelstemperatuur is 4.9 °C, met een maximum van 11 °C en een minimum van 1 °C. Wilt u een temperatuursvoorspelling?\n"
     ]
    }
   ],
   "source": [
    "# Create the kernel and learn AIML files\n",
    "kernel = aiml.Kernel()\n",
    "kernel.learn(\"start_bot.xml\")\n",
    "kernel.respond(\"load aiml\")\n",
    "\n",
    "kernel.setBotPredicate(\"name\", \"WeatherBot\")\n",
    "\n",
    "# Press CTRL-C to break this loop\n",
    "while True:\n",
    "    message = input(\"Enter your message >> \")\n",
    "    if message == \"quit\":\n",
    "        break #useful in notebook\n",
    "        # exit() # useful in actual application\n",
    "    elif message == \"save\":\n",
    "        kernel.saveBrain(\"aiml/bot_brain.brn\")\n",
    "    else:\n",
    "        bot_response = kernel.respond(message)\n",
    "        if kernel.getPredicate(\"graph_temp\") == \"1\":\n",
    "            tmax_0 = int(kernel.getPredicate(\"d0tmax\"))\n",
    "            tmax_1 = int(kernel.getPredicate(\"d1tmax\"))\n",
    "            tmax_2 = int(kernel.getPredicate(\"d2tmax\"))\n",
    "            tmin_0 = int(kernel.getPredicate(\"d0tmin\"))\n",
    "            tmin_1 = int(kernel.getPredicate(\"d1tmin\"))\n",
    "            tmin_2 = int(kernel.getPredicate(\"d2tmin\"))\n",
    "            tmax = [tmax_0, tmax_1, tmax_2]\n",
    "            tmin = [tmin_0, tmin_1, tmin_2]\n",
    "            days = [\"vandaag\", \"morgen\", \"overmorgen\"]\n",
    "            l2 = plt.plot(days, tmin, color = \"blue\", label=\"minimum temperatuur\")\n",
    "            l1 = plt.plot(days, tmax, color = \"orange\", label=\"maximum temperatuur\")\n",
    "            plt.xlabel(\"Tijdstip\")\n",
    "            plt.ylabel(\"Temperatuur\")\n",
    "            plt.legend()\n",
    "            plt.show()\n",
    "            kernel.setPredicate(\"graph_temp\", \"0\")\n",
    "            print(kernel.respond('SPECIFICS'))\n",
    "        elif kernel.getPredicate(\"graph_temp\") == \"2\":\n",
    "            print(\"nog niet gedaan\")\n",
    "            kernel.setPredicate(\"graph_temp\", \"0\")\n",
    "            print(kernel.respond('SPECIFICS'))\n",
    "        elif kernel.getPredicate(\"cur_weather_loc\") and not kernel.getPredicate(\"plaats\"):\n",
    "            #weather_dict = wd.weather_data(kernel.getPredicate(\"cur_weather_loc\"))\n",
    "            weather_dict = {'plaats': 'Hoorn', 'temp': '7.9', 'gtemp': '4.9', 'samenv': 'Geheel bewolkt', 'lv': '67', 'windr': 'West', 'windms': '5', 'winds': '3', 'windk': '9.7', 'windkmh': '18', 'luchtd': '1021.5', 'ldmmhg': '766', 'dauwp': '1', 'zicht': '40', 'verw': 'Wolkenvelden en in het noorden een bui, in het zuiden zonnig', 'sup': '07:10', 'sunder': '20:17', 'image': 'bewolkt', 'd0weer': 'zonnig', 'd0tmax': '11', 'd0tmin': '1', 'd0windk': '3', 'd0windknp': '8', 'd0windms': '4', 'd0windkmh': '15', 'd0windr': 'NO', 'd0neerslag': '4', 'd0zon': '86', 'd1weer': 'halfbewolkt', 'd1tmax': '11', 'd1tmin': '1', 'd1windk': '3', 'd1windknp': '8', 'd1windms': '4', 'd1windkmh': '15', 'd1windr': 'ZW', 'd1neerslag': '20', 'd1zon': '40', 'd2weer': 'bewolkt', 'd2tmax': '8', 'd2tmin': '4', 'd2windk': '3', 'd2windknp': '8', 'd2windms': '4', 'd2windkmh': '15', 'd2windr': 'NW', 'd2neerslag': '30', 'd2zon': '30', 'alarm': '0', '$id': '51', 'stationid': 6248, 'stationname': 'Meetstation Wijdenes', 'lat': 52.63, 'lon': 5.17, 'regio': 'Hoorn', 'timestamp': '2020-04-01T14:50:00', 'weatherdescription': 'Zwaar bewolkt', 'iconurl': 'https://www.buienradar.nl/resources/images/icons/weather/30x30/c.png', 'graphUrl': 'https://www.buienradar.nl/nederland/weerbericht/weergrafieken/c', 'winddirection': 'W', 'windgusts': 5.1, 'windspeed': 3.1, 'windspeedBft': 2, 'winddirectiondegrees': 264}\n",
    "            kernel.setPredicate(\"weather_descr\", weather_dict[\"samenv\"])\n",
    "            kernel.setPredicate(\"temp\", weather_dict[\"temp\"])\n",
    "            print(kernel.respond('CURRENT WEATHER LOC'))\n",
    "            print(kernel.respond('SPECIFICS'))\n",
    "            for i in weather_dict:\n",
    "                if \"windr\" in i: \n",
    "                    kernel.setPredicate(i, wind(weather_dict[i]))\n",
    "                else:\n",
    "                    kernel.setPredicate(i, weather_dict[i])\n",
    "        else:\n",
    "            print(bot_response)"
   ]
  },
  {
   "cell_type": "code",
   "execution_count": 18,
   "metadata": {},
   "outputs": [
    {
     "data": {
      "text/plain": [
       "'10.1'"
      ]
     },
     "execution_count": 18,
     "metadata": {},
     "output_type": "execute_result"
    }
   ],
   "source": [
    "wd.weather_data(\"Jaagpad 4 de kwakel\")['temp']"
   ]
  }
 ],
 "metadata": {
  "kernelspec": {
   "display_name": "Python 3",
   "language": "python",
   "name": "python3"
  },
  "language_info": {
   "codemirror_mode": {
    "name": "ipython",
    "version": 3
   },
   "file_extension": ".py",
   "mimetype": "text/x-python",
   "name": "python",
   "nbconvert_exporter": "python",
   "pygments_lexer": "ipython3",
   "version": "3.7.4"
  }
 },
 "nbformat": 4,
 "nbformat_minor": 2
}
